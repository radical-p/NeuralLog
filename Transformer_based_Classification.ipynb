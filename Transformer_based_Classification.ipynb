{
  "nbformat": 4,
  "nbformat_minor": 0,
  "metadata": {
    "colab": {
      "provenance": [],
      "gpuType": "T4",
      "include_colab_link": true
    },
    "kernelspec": {
      "display_name": "Python 3",
      "name": "python3"
    },
    "language_info": {
      "name": "python"
    },
    "accelerator": "GPU"
  },
  "cells": [
    {
      "cell_type": "markdown",
      "metadata": {
        "id": "view-in-github",
        "colab_type": "text"
      },
      "source": [
        "<a href=\"https://colab.research.google.com/github/radical-p/NeuralLog/blob/main/Transformer_based_Classification.ipynb\" target=\"_parent\"><img src=\"https://colab.research.google.com/assets/colab-badge.svg\" alt=\"Open In Colab\"/></a>"
      ]
    },
    {
      "cell_type": "code",
      "metadata": {
        "colab": {
          "base_uri": "https://localhost:8080/"
        },
        "id": "pwFyen9PamnP",
        "outputId": "8708ccf6-5baf-48b1-fd75-c9ca68d7cdcd",
        "pycharm": {
          "name": "#%%\n"
        }
      },
      "source": [
        "!nvidia-smi"
      ],
      "execution_count": 1,
      "outputs": [
        {
          "output_type": "stream",
          "name": "stdout",
          "text": [
            "Mon Aug  7 07:36:23 2023       \n",
            "+-----------------------------------------------------------------------------+\n",
            "| NVIDIA-SMI 525.105.17   Driver Version: 525.105.17   CUDA Version: 12.0     |\n",
            "|-------------------------------+----------------------+----------------------+\n",
            "| GPU  Name        Persistence-M| Bus-Id        Disp.A | Volatile Uncorr. ECC |\n",
            "| Fan  Temp  Perf  Pwr:Usage/Cap|         Memory-Usage | GPU-Util  Compute M. |\n",
            "|                               |                      |               MIG M. |\n",
            "|===============================+======================+======================|\n",
            "|   0  Tesla T4            Off  | 00000000:00:04.0 Off |                    0 |\n",
            "| N/A   36C    P8     9W /  70W |      0MiB / 15360MiB |      0%      Default |\n",
            "|                               |                      |                  N/A |\n",
            "+-------------------------------+----------------------+----------------------+\n",
            "                                                                               \n",
            "+-----------------------------------------------------------------------------+\n",
            "| Processes:                                                                  |\n",
            "|  GPU   GI   CI        PID   Type   Process name                  GPU Memory |\n",
            "|        ID   ID                                                   Usage      |\n",
            "|=============================================================================|\n",
            "|  No running processes found                                                 |\n",
            "+-----------------------------------------------------------------------------+\n"
          ]
        }
      ]
    },
    {
      "cell_type": "code",
      "metadata": {
        "id": "mLFhbl0yi63A",
        "pycharm": {
          "name": "#%%\n"
        },
        "colab": {
          "base_uri": "https://localhost:8080/"
        },
        "outputId": "004449e1-9c3e-4613-ab04-31ad3a9c718b"
      },
      "source": [
        "pip install -q tf-models-official"
      ],
      "execution_count": 2,
      "outputs": [
        {
          "output_type": "stream",
          "name": "stdout",
          "text": [
            "\u001b[31mERROR: pip's dependency resolver does not currently take into account all the packages that are installed. This behaviour is the source of the following dependency conflicts.\n",
            "flax 0.7.0 requires PyYAML>=5.4.1, but you have pyyaml 5.3.1 which is incompatible.\n",
            "numba 0.56.4 requires numpy<1.24,>=1.18, but you have numpy 1.24.3 which is incompatible.\u001b[0m\u001b[31m\n",
            "\u001b[0m"
          ]
        }
      ]
    },
    {
      "cell_type": "code",
      "source": [
        "pip install numpy --upgrade"
      ],
      "metadata": {
        "colab": {
          "base_uri": "https://localhost:8080/",
          "height": 352
        },
        "id": "sMt-bF2esd5w",
        "outputId": "7e7dccaf-6d07-431d-bc2e-80390d11a484"
      },
      "execution_count": 3,
      "outputs": [
        {
          "output_type": "stream",
          "name": "stdout",
          "text": [
            "Requirement already satisfied: numpy in /usr/local/lib/python3.10/dist-packages (1.24.3)\n",
            "Collecting numpy\n",
            "  Using cached numpy-1.25.2-cp310-cp310-manylinux_2_17_x86_64.manylinux2014_x86_64.whl (18.2 MB)\n",
            "Installing collected packages: numpy\n",
            "  Attempting uninstall: numpy\n",
            "    Found existing installation: numpy 1.24.3\n",
            "    Uninstalling numpy-1.24.3:\n",
            "      Successfully uninstalled numpy-1.24.3\n",
            "\u001b[31mERROR: pip's dependency resolver does not currently take into account all the packages that are installed. This behaviour is the source of the following dependency conflicts.\n",
            "flax 0.7.0 requires PyYAML>=5.4.1, but you have pyyaml 5.3.1 which is incompatible.\n",
            "numba 0.56.4 requires numpy<1.24,>=1.18, but you have numpy 1.25.2 which is incompatible.\n",
            "tensorflow 2.13.0 requires numpy<=1.24.3,>=1.22, but you have numpy 1.25.2 which is incompatible.\u001b[0m\u001b[31m\n",
            "\u001b[0mSuccessfully installed numpy-1.25.2\n"
          ]
        },
        {
          "output_type": "display_data",
          "data": {
            "application/vnd.colab-display-data+json": {
              "pip_warning": {
                "packages": [
                  "numpy"
                ]
              }
            }
          },
          "metadata": {}
        }
      ]
    },
    {
      "cell_type": "code",
      "source": [
        "from google.colab import drive\n",
        "drive.mount('/content/drive')"
      ],
      "metadata": {
        "colab": {
          "base_uri": "https://localhost:8080/"
        },
        "id": "lRNVSLuwVHm2",
        "outputId": "fd93c920-5bc1-45c5-d884-5e82d1def369"
      },
      "execution_count": 4,
      "outputs": [
        {
          "output_type": "stream",
          "name": "stdout",
          "text": [
            "Drive already mounted at /content/drive; to attempt to forcibly remount, call drive.mount(\"/content/drive\", force_remount=True).\n"
          ]
        }
      ]
    },
    {
      "cell_type": "code",
      "metadata": {
        "id": "Gx3lltd58zkg",
        "pycharm": {
          "name": "#%%\n"
        }
      },
      "source": [
        "import pickle"
      ],
      "execution_count": 5,
      "outputs": []
    },
    {
      "cell_type": "code",
      "metadata": {
        "id": "cYQGTcl_86xy",
        "pycharm": {
          "name": "#%%\n"
        }
      },
      "source": [
        "import numpy as np\n",
        "from tensorflow.keras.utils import Sequence\n",
        "from tensorflow.keras.optimizers import SGD, Adam\n",
        "from tensorflow.keras.callbacks import ModelCheckpoint, EarlyStopping\n",
        "from official.nlp import optimization"
      ],
      "execution_count": 6,
      "outputs": []
    },
    {
      "cell_type": "code",
      "metadata": {
        "id": "95b_uEPLgSIq",
        "pycharm": {
          "name": "#%%\n"
        }
      },
      "source": [
        "from tensorflow.keras.preprocessing.sequence import pad_sequences"
      ],
      "execution_count": 7,
      "outputs": []
    },
    {
      "cell_type": "markdown",
      "source": [
        "#### only run this cell if you want to train the model by your self"
      ],
      "metadata": {
        "id": "h0t7lBNqdYcr"
      }
    },
    {
      "cell_type": "code",
      "metadata": {
        "id": "iqf3h3Sh88xN",
        "pycharm": {
          "name": "#%%\n"
        }
      },
      "source": [
        "#from sklearn.utils import shuffle\n",
        "from sklearn.metrics import classification_report"
      ],
      "execution_count": 8,
      "outputs": []
    },
    {
      "cell_type": "code",
      "metadata": {
        "id": "W1kFJDLP8bwe",
        "pycharm": {
          "name": "#%%\n"
        }
      },
      "source": [
        "import tensorflow as tf\n",
        "from tensorflow import keras\n",
        "from tensorflow.keras import layers"
      ],
      "execution_count": 9,
      "outputs": []
    },
    {
      "cell_type": "markdown",
      "metadata": {
        "id": "Liu0qGrAVNxp",
        "pycharm": {
          "name": "#%% md\n"
        }
      },
      "source": [
        "# II. Transformer"
      ]
    },
    {
      "cell_type": "code",
      "metadata": {
        "id": "-PUKB02N_QTF",
        "pycharm": {
          "name": "#%%\n"
        }
      },
      "source": [
        "def get_angles(pos, i, d_model):\n",
        "    angle_rates = 1 / np.power(10000, (2 * (i//2)) / np.float32(d_model))\n",
        "    return pos * angle_rates\n",
        "\n",
        "def positional_encoding(position, d_model):\n",
        "    angle_rads = get_angles(np.arange(position)[:, np.newaxis],\n",
        "                            np.arange(d_model)[np.newaxis, :],\n",
        "                            d_model)\n",
        "\n",
        "    # apply sin to even indices in the array; 2i\n",
        "    angle_rads[:, 0::2] = np.sin(angle_rads[:, 0::2])\n",
        "\n",
        "    # apply cos to odd indices in the array; 2i+1\n",
        "    angle_rads[:, 1::2] = np.cos(angle_rads[:, 1::2])\n",
        "\n",
        "    pos_encoding = angle_rads[np.newaxis, ...]\n",
        "\n",
        "    return tf.cast(pos_encoding, dtype=tf.float32)"
      ],
      "execution_count": 10,
      "outputs": []
    },
    {
      "cell_type": "code",
      "metadata": {
        "id": "7taKfNmh8e5B",
        "pycharm": {
          "name": "#%%\n"
        }
      },
      "source": [
        "class TransformerBlock(layers.Layer):\n",
        "    def __init__(self, embed_dim, num_heads, ff_dim, rate=0.1):\n",
        "        super(TransformerBlock, self).__init__()\n",
        "        self.att = layers.MultiHeadAttention(num_heads=num_heads, key_dim=embed_dim)\n",
        "        self.ffn = keras.Sequential(\n",
        "            [layers.Dense(ff_dim, activation=\"relu\"), layers.Dense(embed_dim),]\n",
        "        )\n",
        "        self.layernorm1 = layers.LayerNormalization(epsilon=1e-6)\n",
        "        self.layernorm2 = layers.LayerNormalization(epsilon=1e-6)\n",
        "        self.dropout1 = layers.Dropout(rate)\n",
        "        self.dropout2 = layers.Dropout(rate)\n",
        "\n",
        "    def call(self, inputs, training):\n",
        "        attn_output = self.att(inputs, inputs)\n",
        "        attn_output = self.dropout1(attn_output, training=training)\n",
        "        out1 = self.layernorm1(inputs + attn_output)\n",
        "        ffn_output = self.ffn(out1)\n",
        "        ffn_output = self.dropout2(ffn_output, training=training)\n",
        "        return self.layernorm2(out1 + ffn_output)"
      ],
      "execution_count": 11,
      "outputs": []
    },
    {
      "cell_type": "code",
      "metadata": {
        "id": "IM6iBfZP6U6C",
        "pycharm": {
          "name": "#%%\n"
        }
      },
      "source": [
        "class PositionEmbedding(layers.Layer):\n",
        "    def __init__(self, max_len, vocab_size, embed_dim):\n",
        "        super(PositionEmbedding, self).__init__()\n",
        "        self.token_emb = layers.Embedding(input_dim=vocab_size, output_dim=embed_dim)\n",
        "        self.pos_encoding = positional_encoding(max_len,\n",
        "                                                embed_dim)\n",
        "\n",
        "    def call(self, x):\n",
        "        seq_len = tf.shape(x)[1]\n",
        "        x += self.pos_encoding[:, :seq_len, :]\n",
        "        return x"
      ],
      "execution_count": 12,
      "outputs": []
    },
    {
      "cell_type": "code",
      "metadata": {
        "id": "mziDCzBZ8g2q",
        "pycharm": {
          "name": "#%%\n"
        }
      },
      "source": [
        "embed_dim = 768  # Embedding size for each token\n",
        "num_heads = 12  # Number of attention heads\n",
        "ff_dim = 2048  # Hidden layer size in feed forward network inside transformer\n",
        "max_len = 75\n",
        "num_layers = 1"
      ],
      "execution_count": 13,
      "outputs": []
    },
    {
      "cell_type": "code",
      "metadata": {
        "id": "qC3Duqe08qkZ",
        "pycharm": {
          "name": "#%%\n"
        }
      },
      "source": [
        "def transformer_classifer(input_size, loss_object, optimizer, dropout=0.1):\n",
        "    inputs = layers.Input(shape=(max_len, embed_dim))\n",
        "    transformer_block = TransformerBlock(embed_dim, num_heads, ff_dim)\n",
        "    embedding_layer = PositionEmbedding(100, 2000, embed_dim)\n",
        "    x = embedding_layer(inputs)\n",
        "    x = transformer_block(x)\n",
        "    x = layers.GlobalAveragePooling1D()(x)\n",
        "    x = layers.Dropout(dropout)(x)\n",
        "    x = layers.Dense(32, activation=\"relu\")(x)\n",
        "    x = layers.Dropout(dropout)(x)\n",
        "    outputs = layers.Dense(2, activation=\"softmax\")(x)\n",
        "    model = keras.Model(inputs=inputs, outputs=outputs)\n",
        "    model.compile(loss=loss_object, metrics=['accuracy'],\n",
        "                  optimizer=optimizer)\n",
        "    return model"
      ],
      "execution_count": 14,
      "outputs": []
    },
    {
      "cell_type": "markdown",
      "metadata": {
        "id": "Abg-kaEbXYKM",
        "pycharm": {
          "name": "#%% md\n"
        }
      },
      "source": [
        "# Training/Testing"
      ]
    },
    {
      "cell_type": "code",
      "metadata": {
        "id": "J3y6Us-99Jyk",
        "pycharm": {
          "name": "#%%\n"
        }
      },
      "source": [
        "class BatchGenerator(Sequence):\n",
        "\n",
        "    def __init__(self, X, Y, batch_size):\n",
        "        self.X, self.Y = X, Y\n",
        "        self.batch_size = batch_size\n",
        "\n",
        "    def __len__(self):\n",
        "        return int(np.ceil(len(self.X) / float(self.batch_size)))\n",
        "\n",
        "    def __getitem__(self, idx):\n",
        "        # print(self.batch_size)\n",
        "        dummy = np.zeros(shape=(embed_dim,))\n",
        "        x = self.X[idx * self.batch_size:min((idx + 1) * self.batch_size, len(self.X))]\n",
        "        X = np.zeros((len(x), max_len, embed_dim))\n",
        "        Y = np.zeros((len(x), 2))\n",
        "        item_count = 0\n",
        "        for i in range(idx * self.batch_size, min((idx + 1) * self.batch_size, len(self.X))):\n",
        "            x = self.X[i]\n",
        "            if len(x) > max_len:\n",
        "                x = x[-max_len:]\n",
        "            x = np.pad(np.array(x), pad_width=((max_len - len(x), 0), (0, 0)), mode='constant',\n",
        "                       constant_values=0)\n",
        "            X[item_count] = np.reshape(x, [max_len, embed_dim])\n",
        "            Y[item_count] = self.Y[i]\n",
        "            item_count += 1\n",
        "        return X[:], Y[:, 0]"
      ],
      "execution_count": 15,
      "outputs": []
    },
    {
      "cell_type": "code",
      "metadata": {
        "id": "2Hry6lv0psLS",
        "pycharm": {
          "name": "#%%\n"
        }
      },
      "source": [
        "class CustomSchedule(tf.keras.optimizers.schedules.LearningRateSchedule):\n",
        "    def __init__(self, d_model, warmup_steps=4000):\n",
        "        super(CustomSchedule, self).__init__()\n",
        "\n",
        "        self.d_model = d_model\n",
        "        self.d_model = tf.cast(self.d_model, tf.float32)\n",
        "\n",
        "        self.warmup_steps = warmup_steps\n",
        "\n",
        "    def __call__(self, step):\n",
        "        arg1 = tf.math.rsqrt(step)\n",
        "        arg2 = step * (self.warmup_steps ** -1.5)\n",
        "\n",
        "        return tf.math.rsqrt(self.d_model) * tf.math.minimum(arg1, arg2)"
      ],
      "execution_count": 16,
      "outputs": []
    },
    {
      "cell_type": "code",
      "metadata": {
        "id": "8XZXMT8-9TtR",
        "pycharm": {
          "name": "#%%\n"
        }
      },
      "source": [
        "def train_generator(training_generator, validate_generator, num_train_samples, num_val_samples, batch_size,\n",
        "                      epoch_num, model_name=None):\n",
        "\n",
        "    optim = Adam()\n",
        "    epochs = epoch_num\n",
        "    steps_per_epoch = num_train_samples\n",
        "    num_train_steps = steps_per_epoch * epochs\n",
        "    num_warmup_steps = int(0.1*num_train_steps)\n",
        "\n",
        "    init_lr = 3e-4\n",
        "    optimizer = optimization.create_optimizer(init_lr=init_lr,\n",
        "                                              num_train_steps=num_train_steps,\n",
        "                                              num_warmup_steps=num_warmup_steps,\n",
        "                                              optimizer_type='adamw')\n",
        "\n",
        "    loss_object = tf.keras.losses.SparseCategoricalCrossentropy()\n",
        "\n",
        "    model = transformer_classifer(768, loss_object, optimizer)\n",
        "\n",
        "    # model.load_weights(\"hdfs_transformer.hdf5\")\n",
        "\n",
        "    print(model.summary())\n",
        "\n",
        "    # checkpoint\n",
        "    filepath = model_name\n",
        "    checkpoint = ModelCheckpoint(filepath,\n",
        "                                 monitor='val_accuracy',\n",
        "                                 verbose=1,\n",
        "                                 save_best_only=True,\n",
        "                                 mode='max',\n",
        "                                 save_weights_only=True)\n",
        "    early_stop = EarlyStopping(\n",
        "        monitor='val_loss', min_delta=0, patience=5, verbose=0, mode='auto',\n",
        "        baseline=None, restore_best_weights=True\n",
        "    )\n",
        "    callbacks_list = [checkpoint, early_stop]\n",
        "\n",
        "    # class_weight = {0: 245., 1: 1.}\n",
        "\n",
        "    model.fit_generator(generator=training_generator,\n",
        "                        steps_per_epoch=int(num_train_samples / batch_size),\n",
        "                        epochs=epoch_num,\n",
        "                        verbose=1,\n",
        "                        validation_data=validate_generator,\n",
        "                        validation_steps=int(num_val_samples / batch_size),\n",
        "                        workers=16,\n",
        "                        max_queue_size=32,\n",
        "                        callbacks=callbacks_list,\n",
        "                        shuffle=True\n",
        "                        # class_weight=class_weight\n",
        "                        )\n",
        "    return model"
      ],
      "execution_count": 17,
      "outputs": []
    },
    {
      "cell_type": "code",
      "metadata": {
        "id": "N_7UPOMJ9HBQ",
        "pycharm": {
          "name": "#%%\n"
        }
      },
      "source": [
        "import matplotlib.pyplot as plt\n",
        "from sklearn import metrics\n",
        "\n",
        "def plot_confusion_matrix(actual, predicted):\n",
        "  confusion_matrix = metrics.confusion_matrix(actual, predicted)\n",
        "\n",
        "  cm_display = metrics.ConfusionMatrixDisplay(confusion_matrix = confusion_matrix, display_labels = ['Negative', 'Positive'])\n",
        "\n",
        "  cm_display.plot()\n",
        "  plt.show()\n",
        "\n",
        "  return\n",
        "\n",
        "\n",
        "def train(X, Y, epoch_num, batch_size, tx, ty, model_file=None):\n",
        "    X, Y = shuffle(X, Y)\n",
        "    n_samples = len(X)\n",
        "    train_x, train_y = X[:int(n_samples * 90 / 100)], Y[:int(n_samples * 90 / 100)]\n",
        "    val_x, val_y = X[int(n_samples * 90 / 100):], Y[int(n_samples * 90 / 100):]\n",
        "\n",
        "    training_generator, num_train_samples = BatchGenerator(train_x, train_y, batch_size), len(train_x)\n",
        "    validate_generator, num_val_samples = BatchGenerator(val_x, val_y, batch_size), len(val_x)\n",
        "\n",
        "    print(\"Number of training samples: {0} - Number of validating samples: {1}\".format(num_train_samples,\n",
        "                                                                                       num_val_samples))\n",
        "\n",
        "    model = train_generator(training_generator, validate_generator, num_train_samples, num_val_samples, batch_size,\n",
        "                              epoch_num, model_name=model_file)\n",
        "    test_model(model, tx, ty, batch_size)\n",
        "    return model\n",
        "\n",
        "\n",
        "def test_model(model, x, y, batch_size):\n",
        "    #x, y = shuffle(x, y)\n",
        "    x, y = x[: len(x) // batch_size * batch_size], y[: len(y) // batch_size * batch_size]\n",
        "    test_loader = BatchGenerator(x, y, batch_size)\n",
        "    prediction = model.predict_generator(test_loader, steps=(len(x) // batch_size), workers=16, max_queue_size=32,\n",
        "                                         verbose=1)\n",
        "    prediction = np.argmax(prediction, axis=1)\n",
        "    y = y[:len(prediction)]\n",
        "\n",
        "    report = classification_report(np.array(y), prediction)\n",
        "    print(report)\n",
        "\n",
        "    plot_confusion_matrix(np.array(y), prediction)\n",
        "    return prediction"
      ],
      "execution_count": 18,
      "outputs": []
    },
    {
      "cell_type": "code",
      "metadata": {
        "id": "0BKGP36V9A1i",
        "pycharm": {
          "name": "#%%\n"
        }
      },
      "source": [
        "from collections import Counter"
      ],
      "execution_count": 19,
      "outputs": []
    },
    {
      "cell_type": "code",
      "metadata": {
        "colab": {
          "base_uri": "https://localhost:8080/"
        },
        "id": "wFM5sqXJ8tHg",
        "outputId": "32628006-7175-439b-904a-31c23be0311f",
        "pycharm": {
          "name": "#%%\n"
        }
      },
      "source": [
        "with open(\"/content/drive/MyDrive/neural-train.pkl\", mode=\"rb\") as f:\n",
        "    (x_tr, y_tr) = pickle.load(f)\n",
        "#x_tr, y_tr = shuffle(x_tr, y_tr)\n",
        "print(Counter(y_tr))\n",
        "with open(\"/content/drive/MyDrive/neural-test.pkl\", mode=\"rb\") as f:\n",
        "    (x_te, y_te) = pickle.load(f)\n",
        "print(Counter(y_te))\n",
        "print(\"Data loaded\")"
      ],
      "execution_count": 20,
      "outputs": [
        {
          "output_type": "stream",
          "name": "stdout",
          "text": [
            "Counter({0: 446559, 1: 13489})\n",
            "Counter({0: 111664, 1: 3349})\n",
            "Data loaded\n"
          ]
        }
      ]
    },
    {
      "cell_type": "markdown",
      "source": [
        "# Train Model yourself"
      ],
      "metadata": {
        "id": "-zpRsyHTyAlC"
      }
    },
    {
      "cell_type": "code",
      "metadata": {
        "colab": {
          "base_uri": "https://localhost:8080/"
        },
        "id": "9qC3cZmR9F26",
        "outputId": "267ac46c-6ef0-4a30-c7f5-1c68a9e79459",
        "pycharm": {
          "name": "#%%\n"
        }
      },
      "source": [
        "model = train(x_tr, y_tr, 1, 32, x_te, y_te, \"hdfs_transformer.hdf5\")"
      ],
      "execution_count": null,
      "outputs": [
        {
          "metadata": {
            "tags": null
          },
          "name": "stdout",
          "output_type": "stream",
          "text": [
            "Number of training samples: 414043 - Number of validating samples: 46005\n",
            "Model: \"model\"\n",
            "_________________________________________________________________\n",
            " Layer (type)                Output Shape              Param #   \n",
            "=================================================================\n",
            " input_1 (InputLayer)        [(None, 75, 768)]         0         \n",
            "                                                                 \n",
            " position_embedding (Positi  (None, 75, 768)           0         \n",
            " onEmbedding)                                                    \n",
            "                                                                 \n",
            " transformer_block (Transfo  (None, 75, 768)           31491584  \n",
            " rmerBlock)                                                      \n",
            "                                                                 \n",
            " global_average_pooling1d (  (None, 768)               0         \n",
            " GlobalAveragePooling1D)                                         \n",
            "                                                                 \n",
            " dropout_2 (Dropout)         (None, 768)               0         \n",
            "                                                                 \n",
            " dense_2 (Dense)             (None, 32)                24608     \n",
            "                                                                 \n",
            " dropout_3 (Dropout)         (None, 32)                0         \n",
            "                                                                 \n",
            " dense_3 (Dense)             (None, 2)                 66        \n",
            "                                                                 \n",
            "=================================================================\n",
            "Total params: 31516258 (120.22 MB)\n",
            "Trainable params: 31516258 (120.22 MB)\n",
            "Non-trainable params: 0 (0.00 Byte)\n",
            "_________________________________________________________________\n",
            "None\n"
          ]
        },
        {
          "metadata": {
            "tags": null
          },
          "name": "stderr",
          "output_type": "stream",
          "text": [
            "<ipython-input-16-e829109666c2>:44: UserWarning: `Model.fit_generator` is deprecated and will be removed in a future version. Please use `Model.fit`, which supports generators.\n",
            "  model.fit_generator(generator=training_generator,\n"
          ]
        },
        {
          "output_type": "stream",
          "name": "stdout",
          "text": [
            "12938/12938 [==============================] - ETA: 0s - loss: 0.0343 - accuracy: 0.9909\n",
            "Epoch 1: val_accuracy improved from -inf to 0.99893, saving model to hdfs_transformer.hdf5\n",
            "12938/12938 [==============================] - 1951s 150ms/step - loss: 0.0343 - accuracy: 0.9909 - val_loss: 0.0058 - val_accuracy: 0.9989\n"
          ]
        },
        {
          "output_type": "stream",
          "name": "stderr",
          "text": [
            "<ipython-input-17-ed8011676196>:23: UserWarning: `Model.predict_generator` is deprecated and will be removed in a future version. Please use `Model.predict`, which supports generators.\n",
            "  prediction = model.predict_generator(test_loader, steps=(len(x) // batch_size), workers=16, max_queue_size=32,\n"
          ]
        },
        {
          "output_type": "stream",
          "name": "stdout",
          "text": [
            "3594/3594 [==============================] - 213s 59ms/step\n",
            "              precision    recall  f1-score   support\n",
            "\n",
            "           0       1.00      1.00      1.00    111659\n",
            "           1       0.97      0.99      0.98      3349\n",
            "\n",
            "    accuracy                           1.00    115008\n",
            "   macro avg       0.99      0.99      0.99    115008\n",
            "weighted avg       1.00      1.00      1.00    115008\n",
            "\n"
          ]
        }
      ]
    },
    {
      "cell_type": "markdown",
      "source": [
        "# Pre Trained Model"
      ],
      "metadata": {
        "id": "-XEQGCcwdLDT"
      }
    },
    {
      "cell_type": "code",
      "source": [
        "loss_object = tf.keras.losses.SparseCategoricalCrossentropy()\n",
        "optimizer = Adam()\n",
        "pre_model = transformer_classifer(768, loss_object, optimizer)\n",
        "pre_model.load_weights(\"/content/drive/MyDrive/hdfs_transformer.hdf5\")"
      ],
      "metadata": {
        "id": "eKdOCmiAxCdr"
      },
      "execution_count": 21,
      "outputs": []
    },
    {
      "cell_type": "code",
      "source": [
        "pred = test_model(pre_model, x_tr, y_tr, 32)\n",
        "print(pred)"
      ],
      "metadata": {
        "colab": {
          "base_uri": "https://localhost:8080/",
          "height": 705
        },
        "id": "ygsZCucMZann",
        "outputId": "160c3a8b-7f76-4916-8b4b-ede48aef42f2"
      },
      "execution_count": 22,
      "outputs": [
        {
          "output_type": "stream",
          "name": "stderr",
          "text": [
            "<ipython-input-18-f706a94a752a>:37: UserWarning: `Model.predict_generator` is deprecated and will be removed in a future version. Please use `Model.predict`, which supports generators.\n",
            "  prediction = model.predict_generator(test_loader, steps=(len(x) // batch_size), workers=16, max_queue_size=32,\n"
          ]
        },
        {
          "output_type": "stream",
          "name": "stdout",
          "text": [
            "14376/14376 [==============================] - 868s 60ms/step\n",
            "              precision    recall  f1-score   support\n",
            "\n",
            "           0       1.00      1.00      1.00    446543\n",
            "           1       1.00      1.00      1.00     13489\n",
            "\n",
            "    accuracy                           1.00    460032\n",
            "   macro avg       1.00      1.00      1.00    460032\n",
            "weighted avg       1.00      1.00      1.00    460032\n",
            "\n"
          ]
        },
        {
          "output_type": "display_data",
          "data": {
            "text/plain": [
              "<Figure size 640x480 with 2 Axes>"
            ],
            "image/png": "[encoded data removed]"
          },
          "metadata": {}
        },
        {
          "output_type": "stream",
          "name": "stdout",
          "text": [
            "[0 0 0 ... 0 0 0]\n"
          ]
        }
      ]
    },
    {
      "cell_type": "markdown",
      "source": [
        "# Comprehend output of Model"
      ],
      "metadata": {
        "id": "f7Ya7HZBdobj"
      }
    },
    {
      "cell_type": "code",
      "source": [
        "pip install shap"
      ],
      "metadata": {
        "colab": {
          "base_uri": "https://localhost:8080/",
          "height": 686
        },
        "id": "pY_7RTT5Zlry",
        "outputId": "df1d4a80-186d-4c52-9e70-427016af879e"
      },
      "execution_count": null,
      "outputs": [
        {
          "output_type": "stream",
          "name": "stdout",
          "text": [
            "Collecting shap\n",
            "  Downloading shap-0.42.1-cp310-cp310-manylinux_2_12_x86_64.manylinux2010_x86_64.manylinux_2_17_x86_64.manylinux2014_x86_64.whl (547 kB)\n",
            "\u001b[2K     \u001b[90m━━━━━━━━━━━━━━━━━━━━━━━━━━━━━━━━━━━━━━━\u001b[0m \u001b[32m547.9/547.9 kB\u001b[0m \u001b[31m2.9 MB/s\u001b[0m eta \u001b[36m0:00:00\u001b[0m\n",
            "\u001b[?25hRequirement already satisfied: numpy in /usr/local/lib/python3.10/dist-packages (from shap) (1.24.3)\n",
            "Requirement already satisfied: scipy in /usr/local/lib/python3.10/dist-packages (from shap) (1.10.1)\n",
            "Requirement already satisfied: scikit-learn in /usr/local/lib/python3.10/dist-packages (from shap) (1.2.2)\n",
            "Requirement already satisfied: pandas in /usr/local/lib/python3.10/dist-packages (from shap) (1.5.3)\n",
            "Requirement already satisfied: tqdm>=4.27.0 in /usr/local/lib/python3.10/dist-packages (from shap) (4.65.0)\n",
            "Requirement already satisfied: packaging>20.9 in /usr/local/lib/python3.10/dist-packages (from shap) (23.1)\n",
            "Collecting slicer==0.0.7 (from shap)\n",
            "  Downloading slicer-0.0.7-py3-none-any.whl (14 kB)\n",
            "Requirement already satisfied: numba in /usr/local/lib/python3.10/dist-packages (from shap) (0.56.4)\n",
            "Requirement already satisfied: cloudpickle in /usr/local/lib/python3.10/dist-packages (from shap) (2.2.1)\n",
            "Requirement already satisfied: llvmlite<0.40,>=0.39.0dev0 in /usr/local/lib/python3.10/dist-packages (from numba->shap) (0.39.1)\n",
            "Collecting numpy (from shap)\n",
            "  Downloading numpy-1.23.5-cp310-cp310-manylinux_2_17_x86_64.manylinux2014_x86_64.whl (17.1 MB)\n",
            "\u001b[2K     \u001b[90m━━━━━━━━━━━━━━━━━━━━━━━━━━━━━━━━━━━━━━━━\u001b[0m \u001b[32m17.1/17.1 MB\u001b[0m \u001b[31m22.0 MB/s\u001b[0m eta \u001b[36m0:00:00\u001b[0m\n",
            "\u001b[?25hRequirement already satisfied: setuptools in /usr/local/lib/python3.10/dist-packages (from numba->shap) (67.7.2)\n",
            "Requirement already satisfied: python-dateutil>=2.8.1 in /usr/local/lib/python3.10/dist-packages (from pandas->shap) (2.8.2)\n",
            "Requirement already satisfied: pytz>=2020.1 in /usr/local/lib/python3.10/dist-packages (from pandas->shap) (2022.7.1)\n",
            "Requirement already satisfied: joblib>=1.1.1 in /usr/local/lib/python3.10/dist-packages (from scikit-learn->shap) (1.3.1)\n",
            "Requirement already satisfied: threadpoolctl>=2.0.0 in /usr/local/lib/python3.10/dist-packages (from scikit-learn->shap) (3.2.0)\n",
            "Requirement already satisfied: six>=1.5 in /usr/local/lib/python3.10/dist-packages (from python-dateutil>=2.8.1->pandas->shap) (1.16.0)\n",
            "Installing collected packages: slicer, numpy, shap\n",
            "  Attempting uninstall: numpy\n",
            "    Found existing installation: numpy 1.24.3\n",
            "    Uninstalling numpy-1.24.3:\n",
            "      Successfully uninstalled numpy-1.24.3\n",
            "\u001b[31mERROR: pip's dependency resolver does not currently take into account all the packages that are installed. This behaviour is the source of the following dependency conflicts.\n",
            "flax 0.7.0 requires PyYAML>=5.4.1, but you have pyyaml 5.3.1 which is incompatible.\u001b[0m\u001b[31m\n",
            "\u001b[0mSuccessfully installed numpy-1.23.5 shap-0.42.1 slicer-0.0.7\n"
          ]
        },
        {
          "output_type": "display_data",
          "data": {
            "application/vnd.colab-display-data+json": {
              "pip_warning": {
                "packages": [
                  "numpy"
                ]
              }
            }
          },
          "metadata": {}
        }
      ]
    },
    {
      "cell_type": "code",
      "source": [
        "import shap"
      ],
      "metadata": {
        "colab": {
          "base_uri": "https://localhost:8080/"
        },
        "id": "V-8gW0LAeZp8",
        "outputId": "2fcb2c09-1df0-4b44-d63b-f3f8b85cabb2"
      },
      "execution_count": null,
      "outputs": [
        {
          "output_type": "stream",
          "name": "stderr",
          "text": [
            "Using `tqdm.autonotebook.tqdm` in notebook mode. Use `tqdm.tqdm` instead to force console mode (e.g. in jupyter console)\n"
          ]
        }
      ]
    },
    {
      "cell_type": "code",
      "source": [
        "explainer = shap.explainers.Permutation(model, max_evals = 1854721)\n",
        "shap_values = explainer(np.array(x_tr[0]))\n",
        "\n",
        "# visualize the first prediction's explanation\n",
        "shap.plots.waterfall(shap_values[0])"
      ],
      "metadata": {
        "colab": {
          "base_uri": "https://localhost:8080/",
          "height": 242
        },
        "id": "1IsKEHyUfMc6",
        "outputId": "c11aa366-e8ee-4c7c-ad8a-9953f7483b97"
      },
      "execution_count": null,
      "outputs": [
        {
          "output_type": "error",
          "ename": "TypeError",
          "evalue": "ignored",
          "traceback": [
            "\u001b[0;31m---------------------------------------------------------------------------\u001b[0m",
            "\u001b[0;31mTypeError\u001b[0m                                 Traceback (most recent call last)",
            "\u001b[0;32m<ipython-input-23-84e88ef88ad7>\u001b[0m in \u001b[0;36m<cell line: 1>\u001b[0;34m()\u001b[0m\n\u001b[0;32m----> 1\u001b[0;31m \u001b[0mexplainer\u001b[0m \u001b[0;34m=\u001b[0m \u001b[0mshap\u001b[0m\u001b[0;34m.\u001b[0m\u001b[0mexplainers\u001b[0m\u001b[0;34m.\u001b[0m\u001b[0mPermutation\u001b[0m\u001b[0;34m(\u001b[0m\u001b[0mpre_model\u001b[0m\u001b[0;34m,\u001b[0m \u001b[0mmax_evals\u001b[0m \u001b[0;34m=\u001b[0m \u001b[0;36m1854721\u001b[0m\u001b[0;34m)\u001b[0m\u001b[0;34m\u001b[0m\u001b[0;34m\u001b[0m\u001b[0m\n\u001b[0m\u001b[1;32m      2\u001b[0m \u001b[0mshap_values\u001b[0m \u001b[0;34m=\u001b[0m \u001b[0mexplainer\u001b[0m\u001b[0;34m(\u001b[0m\u001b[0mnp\u001b[0m\u001b[0;34m.\u001b[0m\u001b[0marray\u001b[0m\u001b[0;34m(\u001b[0m\u001b[0mx_tr\u001b[0m\u001b[0;34m[\u001b[0m\u001b[0;36m0\u001b[0m\u001b[0;34m]\u001b[0m\u001b[0;34m)\u001b[0m\u001b[0;34m)\u001b[0m\u001b[0;34m\u001b[0m\u001b[0;34m\u001b[0m\u001b[0m\n\u001b[1;32m      3\u001b[0m \u001b[0;34m\u001b[0m\u001b[0m\n\u001b[1;32m      4\u001b[0m \u001b[0;31m# visualize the first prediction's explanation\u001b[0m\u001b[0;34m\u001b[0m\u001b[0;34m\u001b[0m\u001b[0m\n\u001b[1;32m      5\u001b[0m \u001b[0mshap\u001b[0m\u001b[0;34m.\u001b[0m\u001b[0mplots\u001b[0m\u001b[0;34m.\u001b[0m\u001b[0mwaterfall\u001b[0m\u001b[0;34m(\u001b[0m\u001b[0mshap_values\u001b[0m\u001b[0;34m[\u001b[0m\u001b[0;36m0\u001b[0m\u001b[0;34m]\u001b[0m\u001b[0;34m)\u001b[0m\u001b[0;34m\u001b[0m\u001b[0;34m\u001b[0m\u001b[0m\n",
            "\u001b[0;31mTypeError\u001b[0m: Permutation.__init__() missing 1 required positional argument: 'masker'"
          ]
        }
      ]
    },
    {
      "cell_type": "code",
      "source": [
        "np.array(x_tr[0]).shape"
      ],
      "metadata": {
        "id": "W-JYa7JFf3Fr",
        "colab": {
          "base_uri": "https://localhost:8080/"
        },
        "outputId": "66ec765a-4a5e-40a4-e5b2-dddef150671e"
      },
      "execution_count": null,
      "outputs": [
        {
          "output_type": "execute_result",
          "data": {
            "text/plain": [
              "(20, 768)"
            ]
          },
          "metadata": {},
          "execution_count": 46
        }
      ]
    },
    {
      "cell_type": "code",
      "source": [],
      "metadata": {
        "id": "bDc7JKqigzbv"
      },
      "execution_count": null,
      "outputs": []
    }
  ]
}